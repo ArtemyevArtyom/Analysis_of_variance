{
  "metadata": {
    "language_info": {
      "codemirror_mode": {
        "name": "python",
        "version": 3
      },
      "file_extension": ".py",
      "mimetype": "text/x-python",
      "name": "python",
      "nbconvert_exporter": "python",
      "pygments_lexer": "ipython3",
      "version": "3.8"
    },
    "kernelspec": {
      "name": "python",
      "display_name": "Python (Pyodide)",
      "language": "python"
    }
  },
  "nbformat_minor": 4,
  "nbformat": 4,
  "cells": [
    {
      "cell_type": "code",
      "source": "#confidence interval: X+-Z*(sigma/n)\nX = 174.2\nD = 25\nn = 27\nZ = 1.96 #a/2 = 0,5/2 = 0,25. Значение далее находится по таблице\nsigma = np.sqrt(D)\nsigma",
      "metadata": {
        "trusted": true
      },
      "execution_count": 20,
      "outputs": [
        {
          "execution_count": 20,
          "output_type": "execute_result",
          "data": {
            "text/plain": "5.0"
          },
          "metadata": {}
        }
      ]
    },
    {
      "cell_type": "code",
      "source": "delta = 1.96*(sigma/np.sqrt(n))\ndelta",
      "metadata": {
        "trusted": true
      },
      "execution_count": 22,
      "outputs": [
        {
          "execution_count": 22,
          "output_type": "execute_result",
          "data": {
            "text/plain": "1.8860108793527774"
          },
          "metadata": {}
        }
      ]
    },
    {
      "cell_type": "code",
      "source": "start = X - delta\nstart",
      "metadata": {
        "trusted": true
      },
      "execution_count": 23,
      "outputs": [
        {
          "execution_count": 23,
          "output_type": "execute_result",
          "data": {
            "text/plain": "172.31398912064722"
          },
          "metadata": {}
        }
      ]
    },
    {
      "cell_type": "code",
      "source": "end = X + delta\nend",
      "metadata": {
        "trusted": true
      },
      "execution_count": 24,
      "outputs": [
        {
          "execution_count": 24,
          "output_type": "execute_result",
          "data": {
            "text/plain": "176.08601087935276"
          },
          "metadata": {}
        }
      ]
    },
    {
      "cell_type": "code",
      "source": "# confidence interval = 172.31 ; 176.09",
      "metadata": {},
      "execution_count": null,
      "outputs": []
    }
  ]
}