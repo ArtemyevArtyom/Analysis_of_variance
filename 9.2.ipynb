{
  "metadata": {
    "language_info": {
      "codemirror_mode": {
        "name": "python",
        "version": 3
      },
      "file_extension": ".py",
      "mimetype": "text/x-python",
      "name": "python",
      "nbconvert_exporter": "python",
      "pygments_lexer": "ipython3",
      "version": "3.8"
    },
    "kernelspec": {
      "name": "python",
      "display_name": "Python (Pyodide)",
      "language": "python"
    }
  },
  "nbformat_minor": 4,
  "nbformat": 4,
  "cells": [
    {
      "cell_type": "code",
      "source": "import numpy as np\nx = np.array([35, 45, 190, 200, 40, 70, 54, 150, 120, 110])\ny = np.array([401, 574, 874, 919, 459, 739, 653, 902, 746, 832])\ndef mse_(B1, y = y, x = x, n = 10):\n    return np.sum((B1*x - y)**2)/ n\nalpha = 1e-5\nB1 = 0.1 \nn = 10\nfor i in range (10):\n    B1 -= alpha * (2/n) * np.sum ((B1 * x - y) * x)\n    print ( 'B1 = {}'.format(B1))",
      "metadata": {
        "trusted": true
      },
      "execution_count": 8,
      "outputs": [
        {
          "name": "stdout",
          "text": "B1 = 1.6952808000000004\nB1 = 2.8510106906144004\nB1 = 3.6883000130080337\nB1 = 4.294889333823904\nB1 = 4.734343885896736\nB1 = 5.0527146463278365\nB1 = 5.283364074395835\nB1 = 5.450462204249402\nB1 = 5.571519452188156\nB1 = 5.659221554487849\n",
          "output_type": "stream"
        }
      ]
    },
    {
      "cell_type": "code",
      "source": "for i in range (3000):\n    B1 -= alpha * (2/n) * np.sum ((B1*x - y) *x)\n    if i % 500 == 0:\n        print ('iteration = {i}, B1 = {B1}, mse ={mse}'.format(i = i, B1 = B1, mse = mse_(B1)))",
      "metadata": {
        "trusted": true
      },
      "execution_count": 9,
      "outputs": [
        {
          "name": "stdout",
          "text": "iteration = 0, B1 = 5.722758921136703, mse =56901.35704574499\niteration = 500, B1 = 5.889820420132688, mse =56516.8584157194\niteration = 1000, B1 = 5.889820420132688, mse =56516.8584157194\niteration = 1500, B1 = 5.889820420132688, mse =56516.8584157194\niteration = 2000, B1 = 5.889820420132688, mse =56516.8584157194\niteration = 2500, B1 = 5.889820420132688, mse =56516.8584157194\n",
          "output_type": "stream"
        }
      ]
    },
    {
      "cell_type": "code",
      "source": "",
      "metadata": {},
      "execution_count": null,
      "outputs": []
    }
  ]
}