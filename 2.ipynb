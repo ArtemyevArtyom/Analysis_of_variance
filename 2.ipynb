{
  "metadata": {
    "language_info": {
      "codemirror_mode": {
        "name": "python",
        "version": 3
      },
      "file_extension": ".py",
      "mimetype": "text/x-python",
      "name": "python",
      "nbconvert_exporter": "python",
      "pygments_lexer": "ipython3",
      "version": "3.8"
    },
    "kernelspec": {
      "name": "python",
      "display_name": "Python (Pyodide)",
      "language": "python"
    }
  },
  "nbformat_minor": 4,
  "nbformat": 4,
  "cells": [
    {
      "cell_type": "code",
      "source": "import scipy.stats as stats\nimport numpy as np\na = np.array([6.9, 6.1, 6.2, 6.8, 7.5, 6.3, 6.4, 6.9, 6.7, 6.1])\nx_1 = np.mean(a)\nx_1",
      "metadata": {
        "trusted": true
      },
      "execution_count": 8,
      "outputs": [
        {
          "execution_count": 8,
          "output_type": "execute_result",
          "data": {
            "text/plain": "6.590000000000001"
          },
          "metadata": {}
        }
      ]
    },
    {
      "cell_type": "code",
      "source": "D1 = np.var(a, ddof = 1)\nD1",
      "metadata": {
        "trusted": true
      },
      "execution_count": 9,
      "outputs": [
        {
          "execution_count": 9,
          "output_type": "execute_result",
          "data": {
            "text/plain": "0.2032222222222223"
          },
          "metadata": {}
        }
      ]
    },
    {
      "cell_type": "code",
      "source": "t1 = stats.t.ppf (0.975, 9)\nt1",
      "metadata": {
        "trusted": true
      },
      "execution_count": 10,
      "outputs": [
        {
          "execution_count": 10,
          "output_type": "execute_result",
          "data": {
            "text/plain": "2.2621571627409915"
          },
          "metadata": {}
        }
      ]
    },
    {
      "cell_type": "code",
      "source": "x_1 - t1 * np.sqrt(D1/10)",
      "metadata": {
        "trusted": true
      },
      "execution_count": 13,
      "outputs": [
        {
          "execution_count": 13,
          "output_type": "execute_result",
          "data": {
            "text/plain": "6.267515851415713"
          },
          "metadata": {}
        }
      ]
    },
    {
      "cell_type": "code",
      "source": "x_1 + t1 * np.sqrt(D1/10)",
      "metadata": {
        "trusted": true
      },
      "execution_count": 14,
      "outputs": [
        {
          "execution_count": 14,
          "output_type": "execute_result",
          "data": {
            "text/plain": "6.912484148584288"
          },
          "metadata": {}
        }
      ]
    },
    {
      "cell_type": "code",
      "source": "6.26 ; 6.91",
      "metadata": {},
      "execution_count": null,
      "outputs": []
    }
  ]
}