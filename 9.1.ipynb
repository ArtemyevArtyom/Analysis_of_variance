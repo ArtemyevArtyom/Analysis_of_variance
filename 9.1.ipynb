{
  "metadata": {
    "language_info": {
      "codemirror_mode": {
        "name": "python",
        "version": 3
      },
      "file_extension": ".py",
      "mimetype": "text/x-python",
      "name": "python",
      "nbconvert_exporter": "python",
      "pygments_lexer": "ipython3",
      "version": "3.8"
    },
    "kernelspec": {
      "name": "python",
      "display_name": "Python (Pyodide)",
      "language": "python"
    }
  },
  "nbformat_minor": 4,
  "nbformat": 4,
  "cells": [
    {
      "cell_type": "code",
      "source": "import numpy as np\nzp = np.array([35, 45, 190, 200, 40, 70, 54, 150, 120, 110])\nks = np.array([401, 574, 874, 919, 459, 739, 653, 902, 746, 832])\nb1 = (np.mean(zp*ks)-np.mean(zp)*np.mean(ks))/(np.mean(zp**2)-np.mean(zp)**2)\nb1",
      "metadata": {
        "trusted": true
      },
      "execution_count": 15,
      "outputs": [
        {
          "execution_count": 15,
          "output_type": "execute_result",
          "data": {
            "text/plain": "2.620538882402765"
          },
          "metadata": {}
        }
      ]
    },
    {
      "cell_type": "code",
      "source": "b0 = np.mean(ks)-b1*np.mean(zp)\nb0",
      "metadata": {
        "trusted": true
      },
      "execution_count": 16,
      "outputs": [
        {
          "execution_count": 16,
          "output_type": "execute_result",
          "data": {
            "text/plain": "444.1773573243596"
          },
          "metadata": {}
        }
      ]
    },
    {
      "cell_type": "code",
      "source": "y_with_intercept=444.1773+2.6205*zp\ny_with_intercept",
      "metadata": {
        "trusted": true
      },
      "execution_count": 17,
      "outputs": [
        {
          "execution_count": 17,
          "output_type": "execute_result",
          "data": {
            "text/plain": "array([535.8948, 562.0998, 942.0723, 968.2773, 548.9973, 627.6123,\n       585.6843, 837.2523, 758.6373, 732.4323])"
          },
          "metadata": {}
        }
      ]
    },
    {
      "cell_type": "code",
      "source": "y_without_intercept=(np.dot(zp, ks)/np.dot(zp, zp))*zp\ny_without_intercept",
      "metadata": {
        "trusted": true
      },
      "execution_count": 22,
      "outputs": [
        {
          "execution_count": 22,
          "output_type": "execute_result",
          "data": {
            "text/plain": "array([ 206.1437147 ,  265.04191891, 1119.06587983, 1177.96408403,\n        235.59281681,  412.28742941,  318.05030269,  883.47306302,\n        706.77845042,  647.88024621])"
          },
          "metadata": {}
        }
      ]
    },
    {
      "cell_type": "code",
      "source": "",
      "metadata": {},
      "execution_count": null,
      "outputs": []
    }
  ]
}