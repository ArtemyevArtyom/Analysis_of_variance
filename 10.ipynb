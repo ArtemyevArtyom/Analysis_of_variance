{
  "metadata": {
    "language_info": {
      "codemirror_mode": {
        "name": "python",
        "version": 3
      },
      "file_extension": ".py",
      "mimetype": "text/x-python",
      "name": "python",
      "nbconvert_exporter": "python",
      "pygments_lexer": "ipython3",
      "version": "3.8"
    },
    "kernelspec": {
      "name": "python",
      "display_name": "Python (Pyodide)",
      "language": "python"
    }
  },
  "nbformat_minor": 4,
  "nbformat": 4,
  "cells": [
    {
      "cell_type": "code",
      "source": "import numpy as np\nimport pandas as pd\nimport matplotlib.pyplot as plt\nimport scipy.stats as stats\nfootbal = np.array([173, 175, 180, 178, 177, 185, 183, 182])\nhockey = np.array([177, 179, 180, 188, 177, 172, 171, 184, 180])\nbarbell = np.array([172, 173, 169, 177, 166, 180, 178, 177, 172, 166, 170])\nstats.shapiro(footbal)\n",
      "metadata": {
        "trusted": true
      },
      "execution_count": 12,
      "outputs": [
        {
          "execution_count": 12,
          "output_type": "execute_result",
          "data": {
            "text/plain": "ShapiroResult(statistic=0.9386808276176453, pvalue=0.5051165223121643)"
          },
          "metadata": {}
        }
      ]
    },
    {
      "cell_type": "code",
      "source": "stats.shapiro(hockey)",
      "metadata": {
        "trusted": true
      },
      "execution_count": 13,
      "outputs": [
        {
          "execution_count": 13,
          "output_type": "execute_result",
          "data": {
            "text/plain": "ShapiroResult(statistic=0.9579196572303772, pvalue=0.7763139009475708)"
          },
          "metadata": {}
        }
      ]
    },
    {
      "cell_type": "code",
      "source": "stats.shapiro(barbell)",
      "metadata": {
        "trusted": true
      },
      "execution_count": 14,
      "outputs": [
        {
          "execution_count": 14,
          "output_type": "execute_result",
          "data": {
            "text/plain": "ShapiroResult(statistic=0.9386808276176453, pvalue=0.5051165223121643)"
          },
          "metadata": {}
        }
      ]
    },
    {
      "cell_type": "code",
      "source": "stats.bartlett(footbal, hockey, barbell)",
      "metadata": {
        "trusted": true
      },
      "execution_count": 15,
      "outputs": [
        {
          "execution_count": 15,
          "output_type": "execute_result",
          "data": {
            "text/plain": "BartlettResult(statistic=0.4640521043406442, pvalue=0.7929254656083131)"
          },
          "metadata": {}
        }
      ]
    },
    {
      "cell_type": "code",
      "source": "f = stats.f_oneway(footbal, hockey, barbell)\nf",
      "metadata": {
        "trusted": true
      },
      "execution_count": 30,
      "outputs": [
        {
          "execution_count": 30,
          "output_type": "execute_result",
          "data": {
            "text/plain": "F_onewayResult(statistic=5.500053450812596, pvalue=0.010482206918698694)"
          },
          "metadata": {}
        }
      ]
    },
    {
      "cell_type": "code",
      "source": "# Значение p-value меньше 0.05, что говорит о том, что у нас есть статистически значимые различия между средним ростом спортсменов в каждой группе. \n# Таким образом, мы можем заключить, что различия в среднем росте между футболистами, хоккеистами и штангистами являются статистически значимыми.",
      "metadata": {},
      "execution_count": null,
      "outputs": []
    }
  ]
}